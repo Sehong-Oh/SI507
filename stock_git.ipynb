{
 "cells": [
  {
   "cell_type": "code",
   "execution_count": 49,
   "metadata": {},
   "outputs": [],
   "source": [
    "from polygon import RESTClient\n",
    "\n",
    "POLYGON_API_KEY = \"\"\n",
    "\n",
    "client = RESTClient(api_key = POLYGON_API_KEY) # POLYGON_API_KEY is used"
   ]
  },
  {
   "cell_type": "code",
   "execution_count": 2,
   "metadata": {},
   "outputs": [
    {
     "name": "stdout",
     "output_type": "stream",
     "text": [
      "[Agg(open=174.57, high=178.49, low=174.44, close=178.44, volume=76545983.0, vwap=177.4855, timestamp=1649044800000, transactions=630374, otc=None)]\n"
     ]
    }
   ],
   "source": [
    "aggs = client.get_aggs(\"AAPL\", 1, \"day\", \"2022-04-04\", \"2022-04-04\")\n",
    "print(aggs)"
   ]
  },
  {
   "cell_type": "code",
   "execution_count": null,
   "metadata": {},
   "outputs": [],
   "source": [
    "from polygon import RESTClient\n",
    "from typing import cast\n",
    "from urllib3 import HTTPResponse\n",
    "\n",
    "POLYGON_API_KEY = \"\"\n",
    "\n",
    "client = RESTClient(api_key = POLYGON_API_KEY)\n",
    "\n",
    "aggs = cast(\n",
    "    HTTPResponse,\n",
    "    client.get_aggs(\n",
    "        \"AAPL\",\n",
    "        1,\n",
    "        \"day\",\n",
    "        \"2022-05-01\",\n",
    "        \"2022-12-03\",\n",
    "        raw=True,\n",
    "    ),\n",
    ")\n",
    "print(aggs.geturl())\n",
    "print(aggs.status)\n",
    "# print(aggs.data)\n",
    "\n",
    "import ast\n",
    "import json\n",
    "data = aggs.data\n",
    "str_data = data.decode('utf-8')\n",
    "parsing = json.loads(str_data)\n",
    "new_data = parsing['results']\n",
    "\n",
    "remove_list = ['v','vw','t']\n",
    "\n",
    "for i in parsing['results']:\n",
    "    for key in remove_list:\n",
    "        del i[key]\n",
    "        \n",
    "print(new_data)"
   ]
  },
  {
   "cell_type": "code",
   "execution_count": 47,
   "metadata": {},
   "outputs": [],
   "source": [
    "import csv\n",
    "\n",
    "myFile = open('tesla_stock.csv', 'w', encoding='UTF-8')\n",
    "writer = csv.writer(myFile)\n",
    "writer.writerow(['Open', 'Closed', 'Highest', 'lowest', 'Trading volume'])\n",
    "for dictionary in new_data:\n",
    "    writer.writerow(dictionary.values())\n",
    "myFile.close()"
   ]
  },
  {
   "cell_type": "code",
   "execution_count": 48,
   "metadata": {},
   "outputs": [],
   "source": [
    "with open('tesla_stock.csv', encoding='UTF-8') as f:\n",
    "    retrieved_list = [{k: v for k, v in row.items()}\n",
    "        for row in csv.DictReader(f, skipinitialspace=True)]"
   ]
  },
  {
   "cell_type": "code",
   "execution_count": 51,
   "metadata": {},
   "outputs": [],
   "source": [
    "import csv\n",
    "\n",
    "myFile = open('Apple.csv', 'w', encoding='UTF-8')\n",
    "writer = csv.writer(myFile)\n",
    "writer.writerow(['Open', 'Closed', 'Highest', 'lowest', 'Trading volume'])\n",
    "for dictionary in new_data:\n",
    "    writer.writerow(dictionary.values())\n",
    "myFile.close()"
   ]
  },
  {
   "cell_type": "code",
   "execution_count": 52,
   "metadata": {},
   "outputs": [],
   "source": [
    "with open('Apple.csv', encoding='UTF-8') as f:\n",
    "    retrieved_list = [{k: v for k, v in row.items()}\n",
    "        for row in csv.DictReader(f, skipinitialspace=True)]"
   ]
  },
  {
   "cell_type": "code",
   "execution_count": null,
   "metadata": {},
   "outputs": [],
   "source": []
  }
 ],
 "metadata": {
  "kernelspec": {
   "display_name": "Python 3.9.5 64-bit",
   "language": "python",
   "name": "python3"
  },
  "language_info": {
   "codemirror_mode": {
    "name": "ipython",
    "version": 3
   },
   "file_extension": ".py",
   "mimetype": "text/x-python",
   "name": "python",
   "nbconvert_exporter": "python",
   "pygments_lexer": "ipython3",
   "version": "3.9.5"
  },
  "orig_nbformat": 4,
  "vscode": {
   "interpreter": {
    "hash": "81794d4967e6c3204c66dcd87b604927b115b27c00565d3d43f05ba2f3a2cb0d"
   }
  }
 },
 "nbformat": 4,
 "nbformat_minor": 2
}
