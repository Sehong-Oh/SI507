{
 "cells": [
  {
   "cell_type": "code",
   "execution_count": 43,
   "metadata": {},
   "outputs": [],
   "source": [
    "twitter_consumer_key = \"\"\n",
    "twitter_consumer_secret = \"\"  \n",
    "twitter_access_token = \"\"\n",
    "twitter_access_secret = \"\"\n",
    "import twitter\n",
    "twitter_api = twitter.Api(consumer_key=twitter_consumer_key,\n",
    "                          consumer_secret=twitter_consumer_secret, \n",
    "                          access_token_key=twitter_access_token, \n",
    "                          access_token_secret=twitter_access_secret)"
   ]
  },
  {
   "cell_type": "code",
   "execution_count": null,
   "metadata": {},
   "outputs": [],
   "source": [
    "account = \"@livemint\"\n",
    "statuses = twitter_api.GetUserTimeline(screen_name=account, count=200, include_rts=True, exclude_replies=False)\n",
    "\n",
    "livemint_list = []\n",
    "for t in statuses:\n",
    "    dic = {}\n",
    "    dic['data'] = t.created_at[:10]\n",
    "    dic['tweet'] = t.text\n",
    "    dic['hashtags'] = t.hashtags\n",
    "    livemint_list.append(dic)\n",
    "\n",
    "print(livemint_list)\n"
   ]
  },
  {
   "cell_type": "code",
   "execution_count": 74,
   "metadata": {},
   "outputs": [],
   "source": [
    "import csv\n",
    "\n",
    "myFile = open('livemint_tweets.csv', 'w', encoding='UTF-8')\n",
    "writer = csv.writer(myFile)\n",
    "writer.writerow(['Data', 'Tweet', 'Hashtags'])\n",
    "for dictionary in livemint_list:\n",
    "    writer.writerow(dictionary.values())\n",
    "myFile.close()"
   ]
  },
  {
   "cell_type": "code",
   "execution_count": 75,
   "metadata": {},
   "outputs": [],
   "source": [
    "with open('livemint_tweets.csv', encoding='UTF-8') as f:\n",
    "    retrieved_list = [{k: v for k, v in row.items()}\n",
    "        for row in csv.DictReader(f, skipinitialspace=True)]"
   ]
  },
  {
   "cell_type": "code",
   "execution_count": null,
   "metadata": {},
   "outputs": [],
   "source": [
    "print(retrieved_list)"
   ]
  },
  {
   "cell_type": "code",
   "execution_count": null,
   "metadata": {},
   "outputs": [],
   "source": []
  }
 ],
 "metadata": {
  "kernelspec": {
   "display_name": "Python 3.9.5 64-bit",
   "language": "python",
   "name": "python3"
  },
  "language_info": {
   "codemirror_mode": {
    "name": "ipython",
    "version": 3
   },
   "file_extension": ".py",
   "mimetype": "text/x-python",
   "name": "python",
   "nbconvert_exporter": "python",
   "pygments_lexer": "ipython3",
   "version": "3.9.5"
  },
  "orig_nbformat": 4,
  "vscode": {
   "interpreter": {
    "hash": "81794d4967e6c3204c66dcd87b604927b115b27c00565d3d43f05ba2f3a2cb0d"
   }
  }
 },
 "nbformat": 4,
 "nbformat_minor": 2
}
